{
 "cells": [
  {
   "cell_type": "code",
   "execution_count": 1,
   "metadata": {},
   "outputs": [],
   "source": [
    "%reload_ext autoreload\n",
    "%autoreload 2\n",
    "%matplotlib inline"
   ]
  },
  {
   "cell_type": "code",
   "execution_count": 158,
   "metadata": {
    "scrolled": false
   },
   "outputs": [],
   "source": [
    "import numpy as np\n",
    "import pandas as pd\n",
    "import inspect\n",
    "import types\n",
    "import pickle\n",
    "\n",
    "from types import SimpleNamespace\n",
    "import operator\n",
    "from typing import Generator\n",
    "import itertools\n",
    "\n",
    "from test import\\\n",
    "    test_eq,\\\n",
    "    test_is,\\\n",
    "    test_fail,\\\n",
    "    is_iter,\\\n",
    "    test_ne,\\\n",
    "    test_shuffled,\\\n",
    "    test_eq_type\n",
    "\n",
    "from core import\\\n",
    "    FixSigMeta,\\\n",
    "    PrePostInitMeta,\\\n",
    "    NewChkMeta,\\\n",
    "    BypassNewMeta,\\\n",
    "    patch_to,\\\n",
    "    patch,\\\n",
    "    patch_property,\\\n",
    "    use_kwargs,\\\n",
    "    delegates,\\\n",
    "    funcs_kwargs,\\\n",
    "    method,\\\n",
    "    add_docs,\\\n",
    "    GetAttr,\\\n",
    "    delegate_attr,\\\n",
    "    coll_repr,\\\n",
    "    mask2idxs,\\\n",
    "    cycle,\\\n",
    "    zip_cycle,\\\n",
    "    L,\\\n",
    "    _listify,\\\n",
    "    _is_array,\\\n",
    "    ifnone,\\\n",
    "    get_class,\\\n",
    "    mk_class,\\\n",
    "    wrap_class,\\\n",
    "    noop,\\\n",
    "    noops,\\\n",
    "    store_attr,\\\n",
    "    attrdict"
   ]
  },
  {
   "cell_type": "markdown",
   "metadata": {},
   "source": [
    "## Metaclasses "
   ]
  },
  {
   "cell_type": "code",
   "execution_count": 3,
   "metadata": {},
   "outputs": [],
   "source": [
    "class _T(metaclass=PrePostInitMeta):\n",
    "    def __pre_init__(self):\n",
    "        self.a = 0\n",
    "        assert self.a == 0\n",
    "    def __init__(self):\n",
    "        self.a += 1\n",
    "        assert self.a == 1\n",
    "    def __post_init__(self):\n",
    "        self.a += 1\n",
    "        assert self.a == 2\n",
    "        \n",
    "t = _T()\n",
    "test_eq(t.a, 2)"
   ]
  },
  {
   "cell_type": "code",
   "execution_count": 4,
   "metadata": {},
   "outputs": [
    {
     "data": {
      "text/plain": [
       "True"
      ]
     },
     "execution_count": 4,
     "metadata": {},
     "output_type": "execute_result"
    }
   ],
   "source": [
    "t = _T()\n",
    "isinstance(t, _T)"
   ]
  },
  {
   "cell_type": "code",
   "execution_count": 5,
   "metadata": {},
   "outputs": [],
   "source": [
    "class _T(metaclass=NewChkMeta):\n",
    "    \"Testing\"\n",
    "    def __init__(self, o=None, b=1):\n",
    "        self.foo = getattr(o, \"foo\", 0) + 1\n",
    "        self.b = b\n",
    "        \n",
    "class _T2:\n",
    "    \"Testing 2\"\n",
    "    def __init__(self, o):\n",
    "        self.foo = getattr(o, \"foo\", 0) + 1\n",
    "        \n",
    "t = _T(1)\n",
    "test_eq(t.foo, 1)\n",
    "t2 = _T(t)\n",
    "test_eq(t2.foo, 1)\n",
    "test_is(t, t2)\n",
    "t3 = _T(t, b=2)\n",
    "test_eq(t3.b, 2)\n",
    "assert not t3 is t\n",
    "\n",
    "t = _T2(1)\n",
    "test_eq(t.foo, 1)\n",
    "t2 = _T2(t)\n",
    "test_eq(t2.foo,2)\n",
    "assert not t2 is t\n",
    "\n",
    "test_eq(_T.__doc__, \"Testing\")\n",
    "test_eq(str(inspect.signature(_T)), \"(self, o=None, b=1)\")"
   ]
  },
  {
   "cell_type": "code",
   "execution_count": 6,
   "metadata": {},
   "outputs": [],
   "source": [
    "class T0: pass\n",
    "class _T(T0, metaclass=BypassNewMeta):\n",
    "    _bypass_type=T0\n",
    "    def __init__(self, x): self.x=x\n",
    "        \n",
    "t = T0()\n",
    "t.a = 1\n",
    "t2 = _T(t)\n",
    "test_eq(type(t2), _T)\n",
    "test_eq(t2.a, 1)\n",
    "test_is(t2, t)\n",
    "t = _T(2)\n",
    "t.x = 2"
   ]
  },
  {
   "cell_type": "markdown",
   "metadata": {},
   "source": [
    "## Foundational functions"
   ]
  },
  {
   "cell_type": "code",
   "execution_count": 7,
   "metadata": {},
   "outputs": [],
   "source": [
    "class _T3(int): pass\n",
    "\n",
    "@patch_to(_T3)\n",
    "def func1(x, a): return x+a\n",
    "\n",
    "t = _T3(1)\n",
    "test_eq(t.func1(2), 3)"
   ]
  },
  {
   "cell_type": "code",
   "execution_count": 8,
   "metadata": {},
   "outputs": [],
   "source": [
    "class _T4(int): pass\n",
    "@patch_to((_T3, _T4))\n",
    "def func2(x, a): return x+2*a\n",
    "\n",
    "t = _T3(1)\n",
    "test_eq(t.func2(1), 3)\n",
    "t = _T4(1)\n",
    "test_eq(t.func2(1), 3)"
   ]
  },
  {
   "cell_type": "code",
   "execution_count": 9,
   "metadata": {},
   "outputs": [
    {
     "data": {
      "text/plain": [
       "dict_values([<class 'str'>, None])"
      ]
     },
     "execution_count": 9,
     "metadata": {},
     "output_type": "execute_result"
    }
   ],
   "source": [
    "def foo(val:str)->None:\n",
    "    return \"hi {val}\"\n",
    "\n",
    "foo.__annotations__.values()"
   ]
  },
  {
   "cell_type": "code",
   "execution_count": 10,
   "metadata": {},
   "outputs": [],
   "source": [
    "@patch\n",
    "def func(x:_T3, a):\n",
    "    \"test\"\n",
    "    return x+2\n",
    "\n",
    "t = _T3(1)\n",
    "test_eq(t.func(2), 3)\n",
    "test_eq(t.func.__qualname__, \"_T3.func\")"
   ]
  },
  {
   "cell_type": "code",
   "execution_count": 11,
   "metadata": {},
   "outputs": [],
   "source": [
    "@patch\n",
    "def func3(x:(_T3, _T4), a):\n",
    "    \"test\"\n",
    "    return x+2*a\n",
    "\n",
    "t = _T3(1)\n",
    "test_eq(t.func3(2), 5)\n",
    "test_eq(t.func3.__qualname__, \"_T3.func3\")\n",
    "t = _T4(1)\n",
    "test_eq(t.func3(2), 5)\n",
    "test_eq(t.func3.__qualname__, \"_T4.func3\")"
   ]
  },
  {
   "cell_type": "code",
   "execution_count": 12,
   "metadata": {},
   "outputs": [
    {
     "data": {
      "text/plain": [
       "<Signature (a)>"
      ]
     },
     "execution_count": 12,
     "metadata": {},
     "output_type": "execute_result"
    }
   ],
   "source": [
    "inspect.signature(t.func3)"
   ]
  },
  {
   "cell_type": "code",
   "execution_count": 13,
   "metadata": {},
   "outputs": [
    {
     "data": {
      "text/plain": [
       "<Signature (x)>"
      ]
     },
     "execution_count": 13,
     "metadata": {},
     "output_type": "execute_result"
    }
   ],
   "source": [
    "class foo:\n",
    "    def bar(self, x):\n",
    "        return x+1\n",
    "inspect.signature(foo().bar)"
   ]
  },
  {
   "cell_type": "code",
   "execution_count": 14,
   "metadata": {},
   "outputs": [],
   "source": [
    "@patch_property\n",
    "def prop(x:_T3): return x+1\n",
    "\n",
    "t = _T3(1)\n",
    "test_eq(t.prop, 2)"
   ]
  },
  {
   "cell_type": "code",
   "execution_count": 15,
   "metadata": {},
   "outputs": [
    {
     "data": {
      "text/plain": [
       "<Parameter \"car\">"
      ]
     },
     "execution_count": 15,
     "metadata": {},
     "output_type": "execute_result"
    }
   ],
   "source": [
    "inspect.Parameter(\"car\", inspect.Parameter.KEYWORD_ONLY)"
   ]
  },
  {
   "cell_type": "code",
   "execution_count": 16,
   "metadata": {},
   "outputs": [],
   "source": [
    "def test_sig(func, b): test_eq(str(inspect.signature(func)), b)"
   ]
  },
  {
   "cell_type": "code",
   "execution_count": 17,
   "metadata": {},
   "outputs": [],
   "source": [
    "@use_kwargs([\"y\", \"z\"])\n",
    "def foo(a, b=1, **kwargs): pass\n",
    "test_sig(foo, '(a, b=1, *, y=None, z=None)')\n",
    "\n",
    "@use_kwargs([\"y\", \"z\"], keep=True)\n",
    "def foo(a, *args, b=1, **kwargs): pass\n",
    "test_sig(foo, '(a, *args, b=1, y=None, z=None, **kwargs)')"
   ]
  },
  {
   "cell_type": "code",
   "execution_count": 18,
   "metadata": {},
   "outputs": [],
   "source": [
    "def basefoo(e, c=2): pass\n",
    "\n",
    "@delegates(basefoo)\n",
    "def foo(a, b=1, **kwargs): pass\n",
    "test_sig(foo, '(a, b=1, c=2)')\n",
    "\n",
    "@delegates(basefoo, keep=True)\n",
    "def foo(a, b=1, **kwargs): pass\n",
    "test_sig(foo, '(a, b=1, c=2, **kwargs)')"
   ]
  },
  {
   "cell_type": "code",
   "execution_count": 19,
   "metadata": {},
   "outputs": [],
   "source": [
    "@funcs_kwargs\n",
    "class T:\n",
    "    _methods=[\"b\"]\n",
    "    def __init__(self, f=1, **kwargs): assert not kwargs\n",
    "    def a(self): return 1\n",
    "    def b(self): return 2\n",
    "    \n",
    "t = T()\n",
    "test_eq(t.a(), 1)\n",
    "test_eq(t.b(), 2)\n",
    "t = T(b=lambda:3)\n",
    "test_eq(t.b(), 3)\n",
    "test_sig(T, '(f=1, *, b=None)')\n",
    "test_fail(lambda: T(a = lambda:3))\n",
    "\n",
    "@method\n",
    "def _f(self, a=1): return a+1\n",
    "t = T(b = _f)\n",
    "test_eq(t.b(2), 3)\n",
    "\n",
    "class T2(T):\n",
    "    def __init__(self, a):\n",
    "        super().__init__(b = lambda: 3)\n",
    "        self.a = a\n",
    "t = T2(a=1)\n",
    "test_eq(t.b(), 3)\n",
    "test_sig(T2, '(a)')\n",
    "\n",
    "def _g(a=1): return a+1\n",
    "class T3(T): b = staticmethod(_g)\n",
    "t = T3()\n",
    "test_eq(t.b(2), 3)"
   ]
  },
  {
   "cell_type": "code",
   "execution_count": 20,
   "metadata": {},
   "outputs": [],
   "source": [
    "def is_listy(x): return isinstance(x, (list, tuple, Generator))"
   ]
  },
  {
   "cell_type": "code",
   "execution_count": 21,
   "metadata": {},
   "outputs": [],
   "source": [
    "class _T:\n",
    "    def f(self): pass\n",
    "    @classmethod\n",
    "    def g(cls): pass\n",
    "add_docs(_T, \"a\", f=\"f\", g=\"g\")\n",
    "\n",
    "test_eq(_T.__doc__, \"a\")\n",
    "test_eq(_T.f.__doc__, \"f\")\n",
    "test_eq(_T.g.__doc__, \"g\")"
   ]
  },
  {
   "cell_type": "code",
   "execution_count": 22,
   "metadata": {},
   "outputs": [],
   "source": [
    "assert is_iter([1])\n",
    "assert not is_iter(np.array(1))\n",
    "assert is_iter(np.array([1,2]))\n",
    "assert (o for o in range(3))"
   ]
  },
  {
   "cell_type": "markdown",
   "metadata": {},
   "source": [
    "## GetAttr "
   ]
  },
  {
   "cell_type": "code",
   "execution_count": 23,
   "metadata": {
    "scrolled": true
   },
   "outputs": [],
   "source": [
    "class _C(GetAttr):\n",
    "    _xtra = ['lower']\n",
    "    def __init__(self, a): self.default = a\n",
    "    def foo(self): noop\n",
    "    def test(self): return \"low\"\n",
    "        \n",
    "t = _C(\"Hi\")\n",
    "test_eq(t.lower(), \"hi\")\n",
    "test_fail(lambda: t.upper())\n",
    "assert \"lower\" in dir(t)"
   ]
  },
  {
   "cell_type": "code",
   "execution_count": 24,
   "metadata": {},
   "outputs": [],
   "source": [
    "class _C:\n",
    "    f = \"Hi\"\n",
    "    def __getattr__(self, k): return delegate_attr(self, k, \"f\")\n",
    "    \n",
    "t = _C()\n",
    "test_eq(t.lower(), \"hi\")"
   ]
  },
  {
   "cell_type": "markdown",
   "metadata": {},
   "source": [
    "## L- "
   ]
  },
  {
   "cell_type": "code",
   "execution_count": 25,
   "metadata": {},
   "outputs": [
    {
     "data": {
      "text/plain": [
       "'(#1000) [0,1,2,3,4,5,6,7,8,9...]'"
      ]
     },
     "execution_count": 25,
     "metadata": {},
     "output_type": "execute_result"
    }
   ],
   "source": [
    "coll_repr(range(1000), 10)"
   ]
  },
  {
   "cell_type": "code",
   "execution_count": 26,
   "metadata": {},
   "outputs": [
    {
     "data": {
      "text/plain": [
       "'(#5) [0,1,2,3,4]'"
      ]
     },
     "execution_count": 26,
     "metadata": {},
     "output_type": "execute_result"
    }
   ],
   "source": [
    "coll_repr(range(5), 10)"
   ]
  },
  {
   "cell_type": "code",
   "execution_count": 27,
   "metadata": {},
   "outputs": [],
   "source": [
    "test_eq(mask2idxs([False, True, False, True]), [1,3])\n",
    "test_eq(mask2idxs(np.array([1, 2, 3])), [1, 2, 3])"
   ]
  },
  {
   "cell_type": "code",
   "execution_count": 28,
   "metadata": {},
   "outputs": [],
   "source": [
    "test_eq(itertools.islice(cycle([1,2,3]), 5), [1,2,3,1,2])\n",
    "test_eq(itertools.islice(cycle([]),3), [None]*3)\n",
    "test_eq(itertools.islice(cycle(None), 3), [None]*3)\n",
    "test_eq(itertools.islice(cycle(1), 3), [1,1,1])"
   ]
  },
  {
   "cell_type": "code",
   "execution_count": 29,
   "metadata": {},
   "outputs": [],
   "source": [
    "test_eq(zip_cycle([1,2,3,4], list(\"abc\")), [(1, \"a\"), (2, \"b\"), (3, \"c\"), (4, \"a\")])"
   ]
  },
  {
   "cell_type": "code",
   "execution_count": 30,
   "metadata": {},
   "outputs": [
    {
     "data": {
      "text/plain": [
       "(#12) [11,10,9,j,7,k,5,4,3,2...]"
      ]
     },
     "execution_count": 30,
     "metadata": {},
     "output_type": "execute_result"
    }
   ],
   "source": [
    "t = L(range(12))\n",
    "test_eq(t, list(range(12)))\n",
    "test_ne(t, list(range(11)))\n",
    "t.reverse() # uses list methods (clever!)\n",
    "test_eq(t[0], 11)\n",
    "t[3] = \"h\"\n",
    "t[3,5] = (\"j\", \"k\") # __setitem__ modified\n",
    "test_eq(t[3,5], [\"j\", \"k\"])\n",
    "test_eq(t, L(t))\n",
    "test_eq(L(L(1,2), [3,4]), ([1,2], [3,4])) # arg is tuple ([3,4],)\n",
    "t"
   ]
  },
  {
   "cell_type": "code",
   "execution_count": 31,
   "metadata": {},
   "outputs": [],
   "source": [
    "arr = np.arange(9).reshape(3,3)\n",
    "t = L(arr, use_list=None) # uses numpy as reference\n",
    "test_eq(t[1,2], arr[[1,2]])\n",
    "\n",
    "df = pd.DataFrame({\"a\":[1,2,3]})\n",
    "t = L(df, use_list=None)\n",
    "test_eq(t[1,2], L(pd.DataFrame({\"a\":[2,3]}, index=[1,2]), use_list=None))"
   ]
  },
  {
   "cell_type": "code",
   "execution_count": 32,
   "metadata": {},
   "outputs": [],
   "source": [
    "t = L()\n",
    "test_eq(t, [])\n",
    "t.append(1)\n",
    "test_eq(t, [1])\n",
    "t += [3,2]\n",
    "test_eq(t, [1,3,2])\n",
    "t += [4]\n",
    "test_eq(t, [1,3,2,4])\n",
    "t = 5 + t\n",
    "test_eq(t, [5,1,3,2,4])\n",
    "test_eq(L(1,2,3), [1,2,3]) # (items,) + (2,3)\n",
    "test_eq(L(1,2,3), L(1,2,3))\n",
    "t = L(1)*5\n",
    "t = t.map(operator.neg)\n",
    "test_eq(t, [-1]*5)\n",
    "test_eq(~L([True, False, False]), L([False, True, True]))\n",
    "t = L(range(4))\n",
    "test_eq(zip(t, L(1).cycle()), zip(range(4), (1,1,1,1)))\n",
    "t = L.range(100)\n",
    "test_shuffled(t, t.shuffled())"
   ]
  },
  {
   "cell_type": "code",
   "execution_count": 33,
   "metadata": {},
   "outputs": [],
   "source": [
    "def _f(x, a=0): return x+a\n",
    "t = L(1)*5\n",
    "test_eq(t.map(_f), t)\n",
    "test_eq(t.map(_f, 1), [2]*5)\n",
    "test_eq(t.map(_f, a=2), [3]*5)"
   ]
  },
  {
   "cell_type": "code",
   "execution_count": 34,
   "metadata": {},
   "outputs": [],
   "source": [
    "test_eq(L([1,2,3]), [1,2,3])\n",
    "test_eq(L(L(1,2,3)), [1,2,3])\n",
    "test_ne(L([1,2,3]), [1,2,])\n",
    "test_eq(L(\"abc\"), [\"abc\"])\n",
    "test_eq(L(range(0,3)), [0,1,2])\n",
    "test_eq(L(o for o in range(0,3)), [0,1,2])\n",
    "test_eq(L(np.array(0)), [np.array(0)])\n",
    "test_eq(L([np.array(0), np.array(1)]), [np.array(0), np.array(1)])\n",
    "test_eq(L(np.array([0.,1.1]))[0], np.array([0.,1.1]))\n",
    "test_eq(L(np.array([0,1.1]), use_list=True), [np.array(0.), np.array(1.1)])"
   ]
  },
  {
   "cell_type": "code",
   "execution_count": 35,
   "metadata": {},
   "outputs": [],
   "source": [
    "test_eq(L(1, match=[1,2,3]), [1,1,1])\n",
    "test_eq(L([1,2], match=[2,3]), [1,2])\n",
    "test_fail(lambda: L([1,2], match=[1,2,3]))"
   ]
  },
  {
   "cell_type": "code",
   "execution_count": 36,
   "metadata": {},
   "outputs": [],
   "source": [
    "test_is(L(t), t)"
   ]
  },
  {
   "cell_type": "code",
   "execution_count": 37,
   "metadata": {},
   "outputs": [],
   "source": [
    "test_eq(L([\"a\", \"b\"]), [\"a\", \"b\"])\n",
    "test_ne(L([\"a\", \"b\"]), \"ab\")\n",
    "test_ne(L([\"a\", \"b\"]), {\"a\", \"b\"})\n",
    "test_ne(L([\"a\", \"b\"]), {\"a\":1, \"b\":2})"
   ]
  },
  {
   "cell_type": "code",
   "execution_count": 38,
   "metadata": {},
   "outputs": [],
   "source": [
    "t = L(range(12))\n",
    "test_eq(t[1,2], [1,2])\n",
    "test_eq(t[[1,2]], [1,2])\n",
    "test_eq(t[:3], [0,1,2])\n",
    "test_eq(t[[False]*11 + [True]], [11])\n",
    "test_eq(t[np.array((3))], 3)"
   ]
  },
  {
   "cell_type": "code",
   "execution_count": 39,
   "metadata": {},
   "outputs": [],
   "source": [
    "t[4,6] = 0\n",
    "test_eq(t[4,6], [0,0])\n",
    "t[4,6] = [1,2]\n",
    "test_eq(t[4,6], [1,2])"
   ]
  },
  {
   "cell_type": "code",
   "execution_count": 40,
   "metadata": {},
   "outputs": [],
   "source": [
    "test_eq(L(1,2,3,4,4).unique(), [1,2,3,4])"
   ]
  },
  {
   "cell_type": "code",
   "execution_count": 41,
   "metadata": {},
   "outputs": [],
   "source": [
    "test_eq(L(1,2,3).val2idx(), {3:2,1:0,2:1})"
   ]
  },
  {
   "cell_type": "code",
   "execution_count": 42,
   "metadata": {},
   "outputs": [],
   "source": [
    "test_eq(t.filter(lambda obj: obj < 5), [0,1,2,3,1,2])"
   ]
  },
  {
   "cell_type": "code",
   "execution_count": 43,
   "metadata": {},
   "outputs": [],
   "source": [
    "test_eq(L.range(4).map(operator.neg), [0,-1,-2,-3])"
   ]
  },
  {
   "cell_type": "code",
   "execution_count": 44,
   "metadata": {},
   "outputs": [],
   "source": [
    "test_eq(L.range(4).map(\"#{}#\"), [\"#0#\", \"#1#\", \"#2#\", \"#3#\"])"
   ]
  },
  {
   "cell_type": "code",
   "execution_count": 45,
   "metadata": {},
   "outputs": [],
   "source": [
    "test_eq(L.range(4).map(list(\"abcd\")), list(\"abcd\"))"
   ]
  },
  {
   "cell_type": "code",
   "execution_count": 46,
   "metadata": {},
   "outputs": [],
   "source": [
    "test_eq(L(range(1,5)).map_dict(operator.neg), {1:-1, 2:-2, 3:-3, 4:-4})"
   ]
  },
  {
   "cell_type": "code",
   "execution_count": 47,
   "metadata": {},
   "outputs": [],
   "source": [
    "t = L([[1,2,3], \"abc\"])\n",
    "test_eq(t.zip(), [(1,\"a\"), (2, \"b\"), (3, \"c\")])"
   ]
  },
  {
   "cell_type": "code",
   "execution_count": 48,
   "metadata": {},
   "outputs": [],
   "source": [
    "t = L([[1,2,3,4], [\"a\",\"b\",\"c\"]])\n",
    "test_eq(t.zip(cycled=True ), [(1, \"a\"), (2, \"b\"), (3, \"c\"), (4, \"a\")])\n",
    "test_eq(t.zip(cycled=False), [(1, \"a\"), (2, \"b\"), (3, \"c\")])"
   ]
  },
  {
   "cell_type": "code",
   "execution_count": 49,
   "metadata": {},
   "outputs": [],
   "source": [
    "t = L([1, 2, 3], [2, 3, 4])\n",
    "test_eq(t.map_zip(operator.mul), [2, 6, 12])"
   ]
  },
  {
   "cell_type": "code",
   "execution_count": 53,
   "metadata": {},
   "outputs": [],
   "source": [
    "b = [[0], [1], [2,2]]\n",
    "t = L([1,2,3]).zipwith(b)\n",
    "test_eq(t, [(1, [0]), (2, [1]), (3, [2,2])])"
   ]
  },
  {
   "cell_type": "code",
   "execution_count": 56,
   "metadata": {},
   "outputs": [],
   "source": [
    "test_eq(L(1,2,3).map_zipwith(operator.mul, [2, 3, 4]), [2, 6, 12])"
   ]
  },
  {
   "cell_type": "code",
   "execution_count": 57,
   "metadata": {},
   "outputs": [],
   "source": [
    "test_eq(t.itemgot(1), b)"
   ]
  },
  {
   "cell_type": "code",
   "execution_count": 68,
   "metadata": {},
   "outputs": [],
   "source": [
    "# SimpleNamespace is a light class provides readable repr\n",
    "a = [SimpleNamespace(a=3, b=4), SimpleNamespace(a=1, b=2)]\n",
    "test_eq(L(a).attrgot(\"b\"), [4, 2])"
   ]
  },
  {
   "cell_type": "code",
   "execution_count": 69,
   "metadata": {},
   "outputs": [],
   "source": [
    "test_eq(L.split(\"a b c\"), list(\"abc\"))"
   ]
  },
  {
   "cell_type": "code",
   "execution_count": 76,
   "metadata": {},
   "outputs": [],
   "source": [
    "test_eq_type(L.range([1,1,1]), L(range(3)))\n",
    "test_eq_type(L.range(5,2,2), L(range(5,2,2)))"
   ]
  },
  {
   "cell_type": "code",
   "execution_count": 80,
   "metadata": {},
   "outputs": [],
   "source": [
    "test_eq(L([0, 1, 2, 3], 4, L(5, 6)).concat(), range(7))"
   ]
  },
  {
   "cell_type": "code",
   "execution_count": 81,
   "metadata": {},
   "outputs": [
    {
     "data": {
      "text/plain": [
       "(#7) [0,1,2,3,4,5,6]"
      ]
     },
     "execution_count": 81,
     "metadata": {},
     "output_type": "execute_result"
    }
   ],
   "source": [
    "L([0, 1, 2, 3], 4, L(5, 6)).concat()"
   ]
  },
  {
   "cell_type": "markdown",
   "metadata": {},
   "source": [
    "## Utility Functions "
   ]
  },
  {
   "cell_type": "code",
   "execution_count": 85,
   "metadata": {},
   "outputs": [],
   "source": [
    "test_eq(ifnone(None, 1), 1)\n",
    "test_eq(ifnone(2,    1), 2)"
   ]
  },
  {
   "cell_type": "code",
   "execution_count": 100,
   "metadata": {},
   "outputs": [],
   "source": [
    "_t = get_class(\"_t\", \"a\", b=2)\n",
    "t = _t()\n",
    "test_eq(t.a, None)\n",
    "test_eq(t.b, 2)\n",
    "t = _t(1, b=3)\n",
    "test_eq(t.a, 1)\n",
    "test_eq(t.b, 3)\n",
    "t = _t(1, 3)\n",
    "test_eq(t.a, 1)\n",
    "test_eq(t.b, 3)"
   ]
  },
  {
   "cell_type": "code",
   "execution_count": 114,
   "metadata": {},
   "outputs": [],
   "source": [
    "mk_class(\"_t\", a=1, sup=GetAttr)\n",
    "t = _t()\n",
    "test_eq(t.a, 1)\n",
    "assert(isinstance(t, GetAttr))"
   ]
  },
  {
   "cell_type": "code",
   "execution_count": 133,
   "metadata": {},
   "outputs": [
    {
     "data": {
      "text/plain": [
       "<core._t at 0x11f567e50>"
      ]
     },
     "execution_count": 133,
     "metadata": {},
     "output_type": "execute_result"
    }
   ],
   "source": [
    "def foo(self): return 1\n",
    "mk_class(\"_t\", \"a\", sup=GetAttr, doc=\"test doc\", funcs=foo)\n",
    "\n",
    "t = _t(3, b=2)\n",
    "test_eq(t.a, 3)\n",
    "test_eq(t.b, 2)\n",
    "test_eq(t.foo(), 1)\n",
    "test_eq(t.__doc__, \"test doc\")\n",
    "t"
   ]
  },
  {
   "cell_type": "code",
   "execution_count": 135,
   "metadata": {},
   "outputs": [],
   "source": [
    "@wrap_class(\"_t\", a=2)\n",
    "def bar(self, x): return x+1\n",
    "\n",
    "t = _t()\n",
    "test_eq(t.a, 2)\n",
    "test_eq(t.bar(3), 4)"
   ]
  },
  {
   "cell_type": "code",
   "execution_count": 153,
   "metadata": {},
   "outputs": [],
   "source": [
    "noop()\n",
    "test_eq(noop(1), 1)"
   ]
  },
  {
   "cell_type": "code",
   "execution_count": 154,
   "metadata": {},
   "outputs": [],
   "source": [
    "mk_class(\"_t\", foo=noops)\n",
    "test_eq(_t().foo(1), 1)"
   ]
  },
  {
   "cell_type": "code",
   "execution_count": 157,
   "metadata": {},
   "outputs": [],
   "source": [
    "class T:\n",
    "    def __init__(self, a, b, c): store_attr(self, 'a,b, c')\n",
    "        \n",
    "t = T(1,c=2,b=3)\n",
    "assert t.a == 1 and t.b == 3 and t.c == 2"
   ]
  },
  {
   "cell_type": "code",
   "execution_count": 159,
   "metadata": {},
   "outputs": [],
   "source": [
    "test_eq(attrdict(t, \"b\", \"c\"), {\"b\":3, \"c\":2})"
   ]
  },
  {
   "cell_type": "code",
   "execution_count": null,
   "metadata": {},
   "outputs": [],
   "source": [
    "class T:\n",
    "    def a(self): return 1\n",
    "    def b(self): return 2\n",
    "properties(T, \"a\")"
   ]
  }
 ],
 "metadata": {
  "kernelspec": {
   "display_name": "Python 3",
   "language": "python",
   "name": "python3"
  },
  "language_info": {
   "codemirror_mode": {
    "name": "ipython",
    "version": 3
   },
   "file_extension": ".py",
   "mimetype": "text/x-python",
   "name": "python",
   "nbconvert_exporter": "python",
   "pygments_lexer": "ipython3",
   "version": "3.7.4"
  }
 },
 "nbformat": 4,
 "nbformat_minor": 2
}
